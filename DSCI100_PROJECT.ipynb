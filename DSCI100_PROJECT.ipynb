{
 "cells": [
  {
   "cell_type": "markdown",
   "id": "24bbab0e-1839-4239-b5c1-ebbd3b0c06ee",
   "metadata": {},
   "source": [
    "yipeeeee!"
   ]
  }
 ],
 "metadata": {
  "kernelspec": {
   "display_name": "R",
   "language": "R",
   "name": "ir"
  },
  "language_info": {
   "codemirror_mode": "r",
   "file_extension": ".r",
   "mimetype": "text/x-r-source",
   "name": "R",
   "pygments_lexer": "r",
   "version": "4.3.3"
  }
 },
 "nbformat": 4,
 "nbformat_minor": 5
}
